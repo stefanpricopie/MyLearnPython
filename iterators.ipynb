{
 "cells": [
  {
   "attachments": {},
   "cell_type": "markdown",
   "metadata": {},
   "source": [
    "##### Changing i in for loop"
   ]
  },
  {
   "cell_type": "code",
   "execution_count": 7,
   "metadata": {},
   "outputs": [
    {
     "name": "stdout",
     "output_type": "stream",
     "text": [
      "0 1 2 3 4 5 6 7 8 9 \n",
      "2 1 2 5 4 5 8 7 8 11 "
     ]
    }
   ],
   "source": [
    "for i in range(10):\n",
    "    print(i, end=' ')\n",
    "print()\n",
    "for i in range(10):\n",
    "    # i is reinitialized at each new iteration\n",
    "    if i % 3 == 0:\n",
    "        i+=2\n",
    "    print(i, end=' ')"
   ]
  },
  {
   "cell_type": "code",
   "execution_count": 8,
   "metadata": {},
   "outputs": [
    {
     "name": "stdout",
     "output_type": "stream",
     "text": [
      "0 0 evaluate\n",
      "1 2 skip\n",
      "2 2 evaluate\n",
      "3 3 evaluate\n",
      "4 5 skip\n",
      "5 5 evaluate\n",
      "6 6 evaluate\n",
      "7 8 skip\n",
      "8 8 evaluate\n",
      "9 9 evaluate\n"
     ]
    }
   ],
   "source": [
    "# if necessary to use for loop\n",
    "t = 0\n",
    "for i in range(10):\n",
    "    if i < t:\n",
    "        print(i,t,\"skip\")\n",
    "        continue\n",
    "    print(i,t,\"evaluate\")\n",
    "    if t % 3 == 0:\n",
    "        t+=2\n",
    "    else:\n",
    "        t+=1"
   ]
  },
  {
   "cell_type": "code",
   "execution_count": 9,
   "metadata": {},
   "outputs": [
    {
     "name": "stdout",
     "output_type": "stream",
     "text": [
      "0 evaluate\n",
      "2 evaluate\n",
      "3 evaluate\n",
      "5 evaluate\n",
      "6 evaluate\n",
      "8 evaluate\n",
      "9 evaluate\n"
     ]
    }
   ],
   "source": [
    "# better with while loop\n",
    "t = 0\n",
    "while t < 10:\n",
    "    print(t,\"evaluate\")\n",
    "    if t % 3 == 0:\n",
    "        t+=2\n",
    "    else:\n",
    "        t+=1"
   ]
  },
  {
   "cell_type": "markdown",
   "metadata": {},
   "source": []
  }
 ],
 "metadata": {
  "kernelspec": {
   "display_name": "Python 3",
   "language": "python",
   "name": "python3"
  },
  "language_info": {
   "codemirror_mode": {
    "name": "ipython",
    "version": 3
   },
   "file_extension": ".py",
   "mimetype": "text/x-python",
   "name": "python",
   "nbconvert_exporter": "python",
   "pygments_lexer": "ipython3",
   "version": "3.9.6"
  },
  "orig_nbformat": 4,
  "vscode": {
   "interpreter": {
    "hash": "31f2aee4e71d21fbe5cf8b01ff0e069b9275f58929596ceb00d14d90e3e16cd6"
   }
  }
 },
 "nbformat": 4,
 "nbformat_minor": 2
}
