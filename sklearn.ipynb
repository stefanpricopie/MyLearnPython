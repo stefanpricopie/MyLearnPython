{
 "cells": [
  {
   "cell_type": "code",
   "execution_count": null,
   "metadata": {},
   "outputs": [],
   "source": [
    "import numpy as np\n",
    "from sklearn.preprocessing import MinMaxScaler"
   ]
  },
  {
   "attachments": {},
   "cell_type": "markdown",
   "metadata": {},
   "source": [
    "### Fit a MinMaxScaler to dimension bounds"
   ]
  },
  {
   "cell_type": "code",
   "execution_count": null,
   "metadata": {},
   "outputs": [],
   "source": [
    "# Each row is a dimension\n",
    "bounds = [(-5.0, 10.0), (0.0, 15.0)]\n",
    "\n",
    "# List transpose\n",
    "xl = [bound[0] for bound in bounds]\n",
    "xu = [bound[1] for bound in bounds]\n",
    "\n",
    "# Untransposes it\n",
    "fit1 = np.array([xl, xu]).T\n",
    "print(fit1)\n",
    "\n",
    "scaler = MinMaxScaler()\n",
    "# In MinMaxScaler each column is a dimension\n",
    "scaler.fit(fit1)\n",
    "print(scaler.data_max_)\n",
    "print(scaler.data_min_)\n",
    "\n",
    "print(\"\\nEach column is a dimension\")\n",
    "fit2 = np.array([xl, xu])\n",
    "print(fit2)\n",
    "\n",
    "scaler = MinMaxScaler()\n",
    "scaler.fit(fit2)\n",
    "print(scaler.data_max_)\n",
    "print(scaler.data_min_)\n",
    "\n",
    "print(\"\\nEach row is a dimension\")\n",
    "print(bounds)\n",
    "\n",
    "scaler = MinMaxScaler()\n",
    "scaler.fit(bounds)\n",
    "print(scaler.data_max_)\n",
    "print(scaler.data_min_)"
   ]
  }
 ],
 "metadata": {
  "language_info": {
   "name": "python"
  },
  "orig_nbformat": 4
 },
 "nbformat": 4,
 "nbformat_minor": 2
}
