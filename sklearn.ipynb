{
 "cells": [
  {
   "cell_type": "code",
   "execution_count": 1,
   "metadata": {},
   "outputs": [],
   "source": [
    "import numpy as np\n",
    "from sklearn.preprocessing import MinMaxScaler"
   ]
  },
  {
   "attachments": {},
   "cell_type": "markdown",
   "metadata": {},
   "source": [
    "### M\n",
    "##### MinMaxScaler.fit"
   ]
  },
  {
   "cell_type": "code",
   "execution_count": null,
   "metadata": {},
   "outputs": [],
   "source": [
    "# Each row is a dimension\n",
    "bounds = [(-5.0, 10.0), (0.0, 15.0)]\n",
    "\n",
    "# List transpose\n",
    "xl = [bound[0] for bound in bounds]\n",
    "xu = [bound[1] for bound in bounds]\n",
    "\n",
    "# Untransposes it\n",
    "fit1 = np.array([xl, xu]).T\n",
    "print(fit1)\n",
    "\n",
    "scaler = MinMaxScaler()\n",
    "# In MinMaxScaler each column is a dimension\n",
    "scaler.fit(fit1)\n",
    "print(scaler.data_max_)\n",
    "print(scaler.data_min_)\n",
    "\n",
    "print(\"\\nEach column is a dimension\")\n",
    "fit2 = np.array([xl, xu])\n",
    "print(fit2)\n",
    "\n",
    "scaler = MinMaxScaler()\n",
    "scaler.fit(fit2)\n",
    "print(scaler.data_max_)\n",
    "print(scaler.data_min_)\n",
    "\n",
    "print(\"\\nEach row is a dimension\")\n",
    "print(bounds)\n",
    "\n",
    "scaler = MinMaxScaler()\n",
    "scaler.fit(bounds)\n",
    "print(scaler.data_max_)\n",
    "print(scaler.data_min_)"
   ]
  },
  {
   "attachments": {},
   "cell_type": "markdown",
   "metadata": {},
   "source": [
    "##### MinMaxScaler.inverse_transform"
   ]
  },
  {
   "cell_type": "code",
   "execution_count": 2,
   "metadata": {},
   "outputs": [
    {
     "name": "stdout",
     "output_type": "stream",
     "text": [
      "[[0.   0.  ]\n",
      " [0.25 0.25]\n",
      " [0.5  0.5 ]\n",
      " [1.   1.  ]]\n",
      "[[-1.   2. ]\n",
      " [-0.5  6. ]\n",
      " [ 0.  10. ]\n",
      " [ 1.  18. ]]\n"
     ]
    }
   ],
   "source": [
    "data = [[-1, 2], [-0.5, 6], [0, 10], [1, 18]]\n",
    "scaler = MinMaxScaler()\n",
    "scaler.fit(data)\n",
    "\n",
    "data_std = scaler.transform(data)\n",
    "print(data_std)\n",
    "\n",
    "data_inversed = scaler.inverse_transform(data_std)\n",
    "print(data_inversed)"
   ]
  },
  {
   "cell_type": "code",
   "execution_count": null,
   "metadata": {},
   "outputs": [],
   "source": []
  }
 ],
 "metadata": {
  "kernelspec": {
   "display_name": "bo_env",
   "language": "python",
   "name": "python3"
  },
  "language_info": {
   "codemirror_mode": {
    "name": "ipython",
    "version": 3
   },
   "file_extension": ".py",
   "mimetype": "text/x-python",
   "name": "python",
   "nbconvert_exporter": "python",
   "pygments_lexer": "ipython3",
   "version": "3.9.15"
  },
  "orig_nbformat": 4,
  "vscode": {
   "interpreter": {
    "hash": "41757b0a1e7e5d07b213c0f3c5aa45a941ead0c34851e4e98dd8b875f047ee70"
   }
  }
 },
 "nbformat": 4,
 "nbformat_minor": 2
}
