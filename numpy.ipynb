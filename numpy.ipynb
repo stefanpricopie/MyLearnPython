{
 "cells": [
  {
   "cell_type": "code",
   "execution_count": 2,
   "metadata": {},
   "outputs": [],
   "source": [
    "import numpy as np"
   ]
  },
  {
   "attachments": {},
   "cell_type": "markdown",
   "metadata": {},
   "source": [
    "### A"
   ]
  },
  {
   "cell_type": "code",
   "execution_count": 3,
   "metadata": {},
   "outputs": [
    {
     "name": "stdout",
     "output_type": "stream",
     "text": [
      "[[1 2 3 4]\n",
      " [5 6 7 8]\n",
      " [3 3 3 3]]\n",
      "[[1, 2, 3, 4], [5, 6, 7, 8], [3, 3, 3, 3]]\n"
     ]
    }
   ],
   "source": [
    "##### np.array.tolist()\n",
    "arr = np.array([[1, 2, 3, 4],\n",
    "                [5, 6, 7, 8],\n",
    "                [3, 3, 3, 3]])\n",
    "print(arr)\n",
    "# Convert 2D Numpy Array to list of lists\n",
    "list_of_lists = arr.tolist()\n",
    "print(list_of_lists)  "
   ]
  },
  {
   "attachments": {},
   "cell_type": "markdown",
   "metadata": {},
   "source": [
    "### N\n",
    "##### None vs np.nan"
   ]
  },
  {
   "cell_type": "code",
   "execution_count": 9,
   "metadata": {},
   "outputs": [
    {
     "name": "stdout",
     "output_type": "stream",
     "text": [
      "[0, 1, None, 0]\n",
      "[0 1 None 0]\n",
      "object\n",
      "[0, 1, nan, 0]\n",
      "[ 0.  1. nan  0.]\n",
      "float64\n"
     ]
    }
   ],
   "source": [
    "# None\n",
    "a = [0, 1, None, 0]\n",
    "a_array = np.array(a)\n",
    "print(a)\n",
    "print(a_array)\n",
    "print(a_array.dtype)\n",
    "\n",
    "# np.nan\n",
    "b = [0, 1, np.nan, 0]\n",
    "b_array = np.array(b)\n",
    "print(b)\n",
    "print(b_array)\n",
    "print(b_array.dtype)"
   ]
  },
  {
   "attachments": {},
   "cell_type": "markdown",
   "metadata": {},
   "source": [
    "### R\n",
    "##### Difference between np.random.random and numpy.random.uniform\n",
    "See https://stackoverflow.com/questions/13213496/what-does-depending-on-rounding-exactly-mean/13213524#13213524\n"
   ]
  },
  {
   "cell_type": "code",
   "execution_count": 2,
   "metadata": {},
   "outputs": [
    {
     "data": {
      "text/plain": [
       "6.163090954304306"
      ]
     },
     "execution_count": 2,
     "metadata": {},
     "output_type": "execute_result"
    }
   ],
   "source": [
    "np.random.random()          # has no arguments, returns a float in [0, 1)\n",
    "np.random.uniform(5, 10)    # can have arguments, can return float in [5, 10) or in [5, 10] depending on rounding"
   ]
  },
  {
   "attachments": {},
   "cell_type": "markdown",
   "metadata": {},
   "source": [
    "### W"
   ]
  },
  {
   "cell_type": "code",
   "execution_count": 5,
   "metadata": {},
   "outputs": [
    {
     "name": "stdout",
     "output_type": "stream",
     "text": [
      "[1]\n",
      "[0]\n"
     ]
    }
   ],
   "source": [
    "a = [0, 1, None, 0]\n",
    "print(np.where(a)[0]) # returns the indices of the non-zero and not None elements\n",
    "print(np.where(np.array(a) is not None)[0]) # returns the indices of the non-zero and not None elements"
   ]
  },
  {
   "cell_type": "code",
   "execution_count": null,
   "metadata": {},
   "outputs": [],
   "source": []
  }
 ],
 "metadata": {
  "kernelspec": {
   "display_name": "bo_env",
   "language": "python",
   "name": "python3"
  },
  "language_info": {
   "codemirror_mode": {
    "name": "ipython",
    "version": 3
   },
   "file_extension": ".py",
   "mimetype": "text/x-python",
   "name": "python",
   "nbconvert_exporter": "python",
   "pygments_lexer": "ipython3",
   "version": "3.9.15"
  },
  "orig_nbformat": 4,
  "vscode": {
   "interpreter": {
    "hash": "41757b0a1e7e5d07b213c0f3c5aa45a941ead0c34851e4e98dd8b875f047ee70"
   }
  }
 },
 "nbformat": 4,
 "nbformat_minor": 2
}
