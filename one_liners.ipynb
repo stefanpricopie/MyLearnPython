{
 "cells": [
  {
   "cell_type": "code",
   "execution_count": null,
   "metadata": {},
   "outputs": [],
   "source": [
    "### Min-Max: ensure value is bounded by min and max\n",
    "def min_max_long(x, xu, xl):\n",
    "    if x > xu:\n",
    "        return xu\n",
    "    elif x < xl:\n",
    "        return xl\n",
    "    else:\n",
    "        return x\n",
    "\n",
    "def min_max_short(x, xu, xl):\n",
    "    return min(xu, max(xl, x))"
   ]
  }
 ],
 "metadata": {
  "language_info": {
   "name": "python"
  },
  "orig_nbformat": 4
 },
 "nbformat": 4,
 "nbformat_minor": 2
}
